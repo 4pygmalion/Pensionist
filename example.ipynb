{
 "cells": [
  {
   "cell_type": "code",
   "execution_count": null,
   "source": [
    "import yaml\n",
    "from SDAM import set_key, set_save_dir"
   ],
   "outputs": [],
   "metadata": {}
  },
  {
   "cell_type": "code",
   "execution_count": null,
   "source": [
    "set_key('YOUR_CERTKEY')\n",
    "set_save_dir('SAVE_DIR')\n",
    "\n",
    "with open(os.path.join(ROOT_DIR, 'SDAM/config.yaml')) as f:\n",
    "        config = yaml.load(f, Loader=yaml.FullLoader)"
   ],
   "outputs": [],
   "metadata": {}
  },
  {
   "cell_type": "code",
   "execution_count": null,
   "source": [
    "# DART에서 분기별 사업보고서에서 원하는 계상된 금액 불러오기\n",
    "dart_collector = DART(config)\n",
    "enlisting_corps = dart_collector.get_listed_corp()\n",
    "\n",
    "dart_collector.get_finance_sheet_from_dart(\"삼성전자\", 2021, 1, doctype=\"CFS\")\n",
    "current_asset = dart_collector.get_asset('유동자산')\n",
    "total_liab = dart_collector.get_asset('부채총계')\n",
    "print(\"Current asset:\", current_asset)\n",
    "print(\"total_liab:\", total_liab)"
   ],
   "outputs": [],
   "metadata": {}
  },
  {
   "cell_type": "code",
   "execution_count": null,
   "source": [
    "stock_code = \"010130\"\n",
    "mvc = MarketValueCollector(stock_code)\n",
    "market_value = mvc.get_market_value('market_value')  # 시가총액"
   ],
   "outputs": [],
   "metadata": {}
  }
 ],
 "metadata": {
  "orig_nbformat": 4,
  "language_info": {
   "name": "python"
  }
 },
 "nbformat": 4,
 "nbformat_minor": 2
}